{
 "cells": [
  {
   "cell_type": "markdown",
   "id": "be9b1556-b712-4f73-bb8f-f521f9ebc5c5",
   "metadata": {},
   "source": [
    "# Twelve Labs Eddie"
   ]
  },
  {
   "cell_type": "markdown",
   "id": "e60f1bb5-c872-405a-9043-bd5f52b02a80",
   "metadata": {},
   "source": [
    "- make sure to `git clone https://github.com/twelvelabs-io/tl-jockey.git`\n",
    "- then switch to `pumplerod-hotfix` branch\n",
    "- - `git checkout -b pumplerod-hotfix`\n",
    "- - `git pull --tags origin pumplerod-hotfix`"
   ]
  },
  {
   "cell_type": "code",
   "execution_count": null,
   "id": "a4ca8680-574c-4776-aa04-453704bcf20d",
   "metadata": {},
   "outputs": [],
   "source": [
    "import os\n",
    "import sys\n",
    "import random\n",
    "import ffmpeg\n",
    "import asyncio\n",
    "from IPython.display import Video\n",
    "#from dotenv import load_dotenv"
   ]
  },
  {
   "cell_type": "code",
   "execution_count": null,
   "id": "94668dee-20a2-4c91-bd27-1d560ca90b0a",
   "metadata": {},
   "outputs": [],
   "source": [
    "from twelvelabs import TwelveLabs, APIStatusError\n",
    "from twelvelabs.models.task import Task\n",
    "#import dropbox"
   ]
  },
  {
   "cell_type": "code",
   "execution_count": null,
   "id": "c0bac43c-1282-4087-85dd-5a2421305efb",
   "metadata": {},
   "outputs": [],
   "source": [
    "from jockey.util import *\n",
    "from jockey.stirrups.video_editing import *"
   ]
  },
  {
   "cell_type": "code",
   "execution_count": null,
   "id": "8fa837b9-5cde-41f9-bc68-aee4472e19eb",
   "metadata": {},
   "outputs": [],
   "source": [
    "# load_dotenv()"
   ]
  },
  {
   "cell_type": "code",
   "execution_count": null,
   "id": "b29a022e-14c7-4872-bc64-f18721f403ec",
   "metadata": {},
   "outputs": [],
   "source": [
    "SOURCE_VIDEO_PATH = \"/Project/12Labs/hackathon/video/source\"\n",
    "OUTPUT_VIDEO_PATH = \"/Project/12Labs/hackathon/video/output\"\n",
    "JOCKEY_VIDEO_PATH = '/Project/12Labs/hackathon/jockey_public_dir'\n",
    "JOCKEY_DB_PATH = '/Project/12Labs/hackathon/jockey_vector_db_dir'\n",
    "TL_API_KEY = 'tlk_3FFX0ZW3XY8HMQ22Q7A3S028TTTR'\n",
    "INDEX_ID = '6664a657913827e5316d503b'"
   ]
  },
  {
   "cell_type": "code",
   "execution_count": null,
   "id": "da98a678-ee6b-4588-96e1-fd4835996eac",
   "metadata": {},
   "outputs": [],
   "source": [
    "os.environ[ \"TWELVE_LABS_API_KEY\"] = TL_API_KEY\n",
    "os.environ[ \"HOST_PUBLIC_DIR\"] = JOCKEY_VIDEO_PATH\n",
    "os.environ[ \"HOST_VECTOR_DB_DIR\"] = JOCKEY_DB_PATH"
   ]
  },
  {
   "cell_type": "markdown",
   "id": "2330fff4-e132-4b05-a258-d03ee744a058",
   "metadata": {},
   "source": [
    "# Helper Functions"
   ]
  },
  {
   "cell_type": "code",
   "execution_count": null,
   "id": "b4413d1e-36b2-4d16-b6ba-39d0d0bb100e",
   "metadata": {},
   "outputs": [],
   "source": [
    "def parse_search_result( page):\n",
    "    output = [{'video_id':clip.video_id, 'score':clip.score, 'start':clip.start, 'end':clip.end} for clip in page]\n",
    "    return output"
   ]
  },
  {
   "cell_type": "code",
   "execution_count": null,
   "id": "049b7a6d-c482-414b-911d-c6dc42460b3c",
   "metadata": {
    "jupyter": {
     "source_hidden": true
    }
   },
   "outputs": [],
   "source": [
    "async def generate_sequence( joined_group, output):\n",
    "    #ffmpeg.output( joined_group[0], joined_group[1], output).overwrite_output().run_async()\n",
    "    ffmpeg.output( joined_group[0], joined_group[1], output).run_async()\n"
   ]
  },
  {
   "cell_type": "code",
   "execution_count": null,
   "id": "2c229cce-3dc3-4899-92d8-cf4a7714b8e1",
   "metadata": {
    "jupyter": {
     "source_hidden": true
    }
   },
   "outputs": [],
   "source": [
    "def print_page(page):\n",
    "  for clip in page:\n",
    "    print(\n",
    "        f\" video_id={clip.video_id} score={clip.score} start={clip.start} end={clip.end} confidence={clip.confidence}\"\n",
    "    )"
   ]
  },
  {
   "cell_type": "markdown",
   "id": "e6bd2551-3abe-4466-af90-158b7c9ae52f",
   "metadata": {},
   "source": [
    "# TwelveLabs Calls"
   ]
  },
  {
   "cell_type": "code",
   "execution_count": null,
   "id": "157ec688-615f-430f-9be6-b036cee03f50",
   "metadata": {},
   "outputs": [],
   "source": [
    "#client = TwelveLabs(api_key=os.getenv('TL_API_KEY'))\n",
    "client = TwelveLabs(api_key=TL_API_KEY)"
   ]
  },
  {
   "cell_type": "code",
   "execution_count": null,
   "id": "24d677e6-abfb-4f92-8aea-4bcacffc9d5a",
   "metadata": {},
   "outputs": [],
   "source": [
    "cut_list = [ \"Drone shots of mountains\",\n",
    "             \"Johnny walking among massive mountains\",\n",
    "             \"military historian B roll. Johnny showing me his sick 3d map and maybing saying something about it.\"]"
   ]
  },
  {
   "cell_type": "code",
   "execution_count": null,
   "id": "6e6f675a-7699-4379-ab19-bd4db3bbfd8c",
   "metadata": {},
   "outputs": [],
   "source": [
    "clips_dicts = []\n",
    "for clip_bundle in cut_list:\n",
    "    print( f'Looking for: {clip_bundle}')\n",
    "    search_results = client.search.query(index_id=INDEX_ID, query=clip_bundle, options=[\"visual\"])\n",
    "    bundle_results = parse_search_result(search_results.data)\n",
    "    clips_dicts.append( bundle_results)\n",
    "    #break"
   ]
  },
  {
   "cell_type": "code",
   "execution_count": null,
   "id": "c22addc7-bd3e-412a-a1b7-55ee08fe091d",
   "metadata": {
    "jupyter": {
     "source_hidden": true
    }
   },
   "outputs": [],
   "source": [
    "clips_dicts"
   ]
  },
  {
   "cell_type": "code",
   "execution_count": null,
   "id": "44e525bf-8956-41fb-baf2-c03ff38dc92f",
   "metadata": {},
   "outputs": [],
   "source": [
    "num_sequences = 3\n",
    "output_files = []\n",
    "for seq_n in range(num_sequences):\n",
    "    sequence_clips = []\n",
    "    for c_dict in clips_dicts:\n",
    "        select_idx = random.randint(0, len(c_dict)-1)\n",
    "        file_path = download_video(video_id=c_dict[ select_idx]['video_id'], index_id=INDEX_ID, start=c_dict[ select_idx]['start'], end=c_dict[ select_idx]['end'])\n",
    "        print( file_path)\n",
    "        clip = {'video_id':c_dict[ select_idx]['video_id'], \n",
    "                'start':c_dict[ select_idx]['start'], \n",
    "                'end':c_dict[ select_idx]['end'], \n",
    "                'video_filepath':file_path}\n",
    "        sequence_clips.append( clip)\n",
    "\n",
    "    out_file = f'{OUTPUT_VIDEO_PATH}/sequence_{seq_n + 1}.mp4'\n",
    "    output_files.append( out_file)\n",
    "    await combine_clips( clips=sequence_clips, output_filename=out_file, index_id=INDEX_ID)"
   ]
  },
  {
   "cell_type": "code",
   "execution_count": null,
   "id": "b5013c53-1817-4a6f-b8e5-a22241445712",
   "metadata": {
    "jupyter": {
     "source_hidden": true
    }
   },
   "outputs": [],
   "source": [
    "    input_streams = []\n",
    "    output_filename=f'{OUTPUT_VIDEO_PATH}/sequence_{seq_n + 1}.mp4'\n",
    "    index_id = INDEX_ID\n",
    "    for clip in sequence_clips:\n",
    "        video_id = clip['video_id']\n",
    "        start = clip['start']\n",
    "        end = clip['end']\n",
    "        video_filepath = os.path.join(os.environ[\"HOST_PUBLIC_DIR\"], index_id, f\"{video_id}_{start}_{end}.mp4\")\n",
    "        print( f'adding file: {video_filepath}')\n",
    "        '''\n",
    "        if os.path.isfile(video_filepath) is False:\n",
    "            try:\n",
    "                download_video(video_id=video_id, index_id=index_id, start=start, end=end)\n",
    "            except AssertionError as error:\n",
    "                error_response = {\n",
    "                    \"message\": f\"There was an error retrieving the video metadata for Video ID: {video_id} in Index ID: {index_id}. \"\n",
    "                    \"Double check that the Video ID and Index ID are valid and correct.\",\n",
    "                    \"error\": str(error)\n",
    "                }\n",
    "                return error_response\n",
    "        '''\n",
    "        clip_video_input_stream = ffmpeg.input(filename=video_filepath, loglevel=\"verbose\").video\n",
    "        clip_audio_input_stream = ffmpeg.input(filename=video_filepath, loglevel=\"verbose\").audio\n",
    "        clip_video_input_stream = clip_video_input_stream.filter(\"setpts\", \"PTS-STARTPTS\")\n",
    "        clip_audio_input_stream = clip_audio_input_stream.filter(\"asetpts\", \"PTS-STARTPTS\")\n",
    "        \n",
    "        input_streams.append(clip_video_input_stream)\n",
    "        input_streams.append(clip_audio_input_stream)\n",
    "    \n",
    "    output_filepath = os.path.join(os.environ[\"HOST_PUBLIC_DIR\"], index_id, output_filename)\n",
    "    ffmpeg.concat(*input_streams, v=1, a=1).output(output_filepath, acodec=\"libmp3lame\", loglevel=\"verbose\").overwrite_output().run()\n",
    "    '''"
   ]
  },
  {
   "cell_type": "code",
   "execution_count": null,
   "id": "2e6f400e-6b64-4389-b059-3d18ddeb2228",
   "metadata": {
    "jupyter": {
     "source_hidden": true
    }
   },
   "outputs": [],
   "source": [
    "sequence_clips"
   ]
  },
  {
   "cell_type": "code",
   "execution_count": null,
   "id": "33d8535c-52a5-48bc-9cda-ce825d6cb4f3",
   "metadata": {
    "jupyter": {
     "source_hidden": true
    }
   },
   "outputs": [],
   "source": [
    "combine_clips( clips=sequence_clips, output_filename=f'{OUTPUT_VIDEO_PATH}/sequence_test.mp4', index_id=INDEX_ID)\n",
    "#combine_clips( sequence_clips, f'{OUTPUT_VIDEO_PATH}/sequence_test.mp4', INDEX_ID)"
   ]
  },
  {
   "cell_type": "code",
   "execution_count": null,
   "id": "31dfdea2-54c1-4828-b1fe-aa75ee397f34",
   "metadata": {
    "jupyter": {
     "source_hidden": true
    }
   },
   "outputs": [],
   "source": [
    "input_streams = []\n",
    "output_filename=f'{OUTPUT_VIDEO_PATH}/sequence_test.mp4'\n",
    "index_id = INDEX_ID\n",
    "for clip in sequence_clips:\n",
    "    print( clip)\n",
    "    video_id = clip['video_id']\n",
    "    start = clip['start']\n",
    "    end = clip['end']\n",
    "    video_filepath = os.path.join(os.environ[\"HOST_PUBLIC_DIR\"], index_id, f\"{video_id}_{start}_{end}.mp4\")\n",
    "    print( f'adding file: {video_filepath}')\n",
    "    '''\n",
    "    if os.path.isfile(video_filepath) is False:\n",
    "        try:\n",
    "            download_video(video_id=video_id, index_id=index_id, start=start, end=end)\n",
    "        except AssertionError as error:\n",
    "            error_response = {\n",
    "                \"message\": f\"There was an error retrieving the video metadata for Video ID: {video_id} in Index ID: {index_id}. \"\n",
    "                \"Double check that the Video ID and Index ID are valid and correct.\",\n",
    "                \"error\": str(error)\n",
    "            }\n",
    "            return error_response\n",
    "    '''\n",
    "    clip_video_input_stream = ffmpeg.input(filename=video_filepath, loglevel=\"verbose\").video\n",
    "    clip_audio_input_stream = ffmpeg.input(filename=video_filepath, loglevel=\"verbose\").audio\n",
    "    clip_video_input_stream = clip_video_input_stream.filter(\"setpts\", \"PTS-STARTPTS\")\n",
    "    clip_audio_input_stream = clip_audio_input_stream.filter(\"asetpts\", \"PTS-STARTPTS\")\n",
    "    \n",
    "    input_streams.append(clip_video_input_stream)\n",
    "    input_streams.append(clip_audio_input_stream)\n",
    "\n",
    "output_filepath = os.path.join(os.environ[\"HOST_PUBLIC_DIR\"], index_id, output_filename)\n",
    "ffmpeg.concat(*input_streams, v=1, a=1).output(output_filepath, acodec=\"libmp3lame\", loglevel=\"verbose\").overwrite_output().run()\n",
    "    "
   ]
  },
  {
   "cell_type": "code",
   "execution_count": null,
   "id": "f4b2d5c0-81a4-4ac1-8240-67780326174c",
   "metadata": {},
   "outputs": [],
   "source": [
    "import pprint\n",
    "pprint.pprint( f'Generated: {output_files}')\n"
   ]
  },
  {
   "cell_type": "code",
   "execution_count": null,
   "id": "b6018888-80fd-461b-98bd-eb3a27efe2c9",
   "metadata": {
    "editable": true,
    "slideshow": {
     "slide_type": ""
    },
    "tags": []
   },
   "outputs": [],
   "source": [
    "print( output_files[0])\n",
    "Video( output_files[0], embed=True)\n"
   ]
  },
  {
   "cell_type": "code",
   "execution_count": null,
   "id": "eb0c8ce6-63a5-4054-844e-4d770e2fcbe9",
   "metadata": {},
   "outputs": [],
   "source": [
    "print( output_files[1])\n",
    "Video( output_files[1], embed=True)\n"
   ]
  },
  {
   "cell_type": "code",
   "execution_count": null,
   "id": "4873b2be-7653-4785-b012-0a5d49c6ffbb",
   "metadata": {},
   "outputs": [],
   "source": [
    "print( output_files[2])\n",
    "Video( output_files[2], embed=True)\n"
   ]
  },
  {
   "cell_type": "code",
   "execution_count": null,
   "id": "b0e4a8d6-acfd-4a08-9d51-ec4629f752f3",
   "metadata": {},
   "outputs": [],
   "source": []
  }
 ],
 "metadata": {
  "kernelspec": {
   "display_name": "py39",
   "language": "python",
   "name": "py39"
  },
  "language_info": {
   "codemirror_mode": {
    "name": "ipython",
    "version": 3
   },
   "file_extension": ".py",
   "mimetype": "text/x-python",
   "name": "python",
   "nbconvert_exporter": "python",
   "pygments_lexer": "ipython3",
   "version": "3.9.0"
  }
 },
 "nbformat": 4,
 "nbformat_minor": 5
}
